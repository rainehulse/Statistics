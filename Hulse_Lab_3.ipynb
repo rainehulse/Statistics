{
  "nbformat": 4,
  "nbformat_minor": 0,
  "metadata": {
    "colab": {
      "provenance": [],
      "collapsed_sections": [],
      "include_colab_link": true
    },
    "kernelspec": {
      "name": "python3",
      "display_name": "Python 3"
    },
    "language_info": {
      "name": "python"
    }
  },
  "cells": [
    {
      "cell_type": "markdown",
      "metadata": {
        "id": "view-in-github",
        "colab_type": "text"
      },
      "source": [
        "<a href=\"https://colab.research.google.com/github/rainehulse/Statistics/blob/main/Hulse_Lab_3.ipynb\" target=\"_parent\"><img src=\"https://colab.research.google.com/assets/colab-badge.svg\" alt=\"Open In Colab\"/></a>"
      ]
    },
    {
      "cell_type": "markdown",
      "source": [
        "# Stats Lab 3"
      ],
      "metadata": {
        "id": "GEwHyK5ve9lG"
      }
    },
    {
      "cell_type": "markdown",
      "source": [
        "### Loops"
      ],
      "metadata": {
        "id": "w8jTQA6itPS_"
      }
    },
    {
      "cell_type": "code",
      "source": [
        "for i in range(100):\n",
        "    print(i) #creating a range of 100 numbers"
      ],
      "metadata": {
        "id": "L7a5MPStqZW9",
        "colab": {
          "base_uri": "https://localhost:8080/"
        },
        "outputId": "5d550b9e-65c8-4c6d-d012-c9fe805d8ba8"
      },
      "execution_count": 1,
      "outputs": [
        {
          "output_type": "stream",
          "name": "stdout",
          "text": [
            "0\n",
            "1\n",
            "2\n",
            "3\n",
            "4\n",
            "5\n",
            "6\n",
            "7\n",
            "8\n",
            "9\n",
            "10\n",
            "11\n",
            "12\n",
            "13\n",
            "14\n",
            "15\n",
            "16\n",
            "17\n",
            "18\n",
            "19\n",
            "20\n",
            "21\n",
            "22\n",
            "23\n",
            "24\n",
            "25\n",
            "26\n",
            "27\n",
            "28\n",
            "29\n",
            "30\n",
            "31\n",
            "32\n",
            "33\n",
            "34\n",
            "35\n",
            "36\n",
            "37\n",
            "38\n",
            "39\n",
            "40\n",
            "41\n",
            "42\n",
            "43\n",
            "44\n",
            "45\n",
            "46\n",
            "47\n",
            "48\n",
            "49\n",
            "50\n",
            "51\n",
            "52\n",
            "53\n",
            "54\n",
            "55\n",
            "56\n",
            "57\n",
            "58\n",
            "59\n",
            "60\n",
            "61\n",
            "62\n",
            "63\n",
            "64\n",
            "65\n",
            "66\n",
            "67\n",
            "68\n",
            "69\n",
            "70\n",
            "71\n",
            "72\n",
            "73\n",
            "74\n",
            "75\n",
            "76\n",
            "77\n",
            "78\n",
            "79\n",
            "80\n",
            "81\n",
            "82\n",
            "83\n",
            "84\n",
            "85\n",
            "86\n",
            "87\n",
            "88\n",
            "89\n",
            "90\n",
            "91\n",
            "92\n",
            "93\n",
            "94\n",
            "95\n",
            "96\n",
            "97\n",
            "98\n",
            "99\n"
          ]
        }
      ]
    },
    {
      "cell_type": "code",
      "source": [
        "for i in range(5,8):\n",
        "    print(i)"
      ],
      "metadata": {
        "colab": {
          "base_uri": "https://localhost:8080/"
        },
        "id": "GiqhhjfLqZZm",
        "outputId": "689e034e-cdc6-4d32-fbe5-73af818bc41f"
      },
      "execution_count": 2,
      "outputs": [
        {
          "output_type": "stream",
          "name": "stdout",
          "text": [
            "5\n",
            "6\n",
            "7\n"
          ]
        }
      ]
    },
    {
      "cell_type": "code",
      "source": [
        "for i in range(3):\n",
        "    print( \"Test Number: \" , i ) #printing test numbers"
      ],
      "metadata": {
        "colab": {
          "base_uri": "https://localhost:8080/"
        },
        "id": "ezhAeX6pqZb0",
        "outputId": "ddeb2239-f5b7-4399-9919-933485609ac2"
      },
      "execution_count": 3,
      "outputs": [
        {
          "output_type": "stream",
          "name": "stdout",
          "text": [
            "Test Number:  0\n",
            "Test Number:  1\n",
            "Test Number:  2\n"
          ]
        }
      ]
    },
    {
      "cell_type": "markdown",
      "source": [
        "### Functions"
      ],
      "metadata": {
        "id": "A6PCCPY2vkHs"
      }
    },
    {
      "cell_type": "code",
      "source": [
        "def square(x):\n",
        "    return x**2"
      ],
      "metadata": {
        "id": "P4rxbIKhthov"
      },
      "execution_count": 4,
      "outputs": []
    },
    {
      "cell_type": "code",
      "source": [
        "square(5)"
      ],
      "metadata": {
        "id": "tapdcxMhthq5",
        "colab": {
          "base_uri": "https://localhost:8080/"
        },
        "outputId": "d434fb48-719e-4ae7-a999-a7bab0015f9b"
      },
      "execution_count": 5,
      "outputs": [
        {
          "output_type": "execute_result",
          "data": {
            "text/plain": [
              "25"
            ]
          },
          "metadata": {},
          "execution_count": 5
        }
      ]
    },
    {
      "cell_type": "code",
      "source": [
        "square(square(2))"
      ],
      "metadata": {
        "colab": {
          "base_uri": "https://localhost:8080/"
        },
        "id": "ggut_uVy_rSf",
        "outputId": "5ee0ca9c-c8ca-48b2-d7ea-a444323d738a"
      },
      "execution_count": 6,
      "outputs": [
        {
          "output_type": "execute_result",
          "data": {
            "text/plain": [
              "16"
            ]
          },
          "metadata": {},
          "execution_count": 6
        }
      ]
    },
    {
      "cell_type": "code",
      "source": [
        "square(square(square(2)))\n"
      ],
      "metadata": {
        "colab": {
          "base_uri": "https://localhost:8080/"
        },
        "id": "95jAfJVR_94h",
        "outputId": "4d72c597-688a-4528-a038-d08207229b79"
      },
      "execution_count": 7,
      "outputs": [
        {
          "output_type": "execute_result",
          "data": {
            "text/plain": [
              "256"
            ]
          },
          "metadata": {},
          "execution_count": 7
        }
      ]
    },
    {
      "cell_type": "code",
      "source": [
        "square(123456)"
      ],
      "metadata": {
        "colab": {
          "base_uri": "https://localhost:8080/"
        },
        "id": "8Ni3UM4r_sav",
        "outputId": "80be5b35-82f2-4216-88ae-2bbe008b7e76"
      },
      "execution_count": 8,
      "outputs": [
        {
          "output_type": "execute_result",
          "data": {
            "text/plain": [
              "15241383936"
            ]
          },
          "metadata": {},
          "execution_count": 8
        }
      ]
    },
    {
      "cell_type": "code",
      "source": [
        "square(square(5))"
      ],
      "metadata": {
        "colab": {
          "base_uri": "https://localhost:8080/"
        },
        "id": "zCJeQUED_vO4",
        "outputId": "d3f1c551-16fb-4bbe-b7d2-7dfded641b13"
      },
      "execution_count": 9,
      "outputs": [
        {
          "output_type": "execute_result",
          "data": {
            "text/plain": [
              "625"
            ]
          },
          "metadata": {},
          "execution_count": 9
        }
      ]
    },
    {
      "cell_type": "code",
      "source": [
        "def add_two(x):\n",
        "    return x+2"
      ],
      "metadata": {
        "id": "Ifx93-xithtM"
      },
      "execution_count": 10,
      "outputs": []
    },
    {
      "cell_type": "code",
      "source": [
        "add_two(5)"
      ],
      "metadata": {
        "colab": {
          "base_uri": "https://localhost:8080/"
        },
        "id": "YOzLVIluthvX",
        "outputId": "ace5ef14-3e0a-4ffd-dfc0-ca93357b2672"
      },
      "execution_count": 11,
      "outputs": [
        {
          "output_type": "execute_result",
          "data": {
            "text/plain": [
              "7"
            ]
          },
          "metadata": {},
          "execution_count": 11
        }
      ]
    },
    {
      "cell_type": "code",
      "source": [
        "square(add_two(5))"
      ],
      "metadata": {
        "colab": {
          "base_uri": "https://localhost:8080/"
        },
        "id": "Rbj7x0pYteTE",
        "outputId": "b03d54fe-02b1-41f4-caeb-a2b5c9b2d5ea"
      },
      "execution_count": 12,
      "outputs": [
        {
          "output_type": "execute_result",
          "data": {
            "text/plain": [
              "49"
            ]
          },
          "metadata": {},
          "execution_count": 12
        }
      ]
    },
    {
      "cell_type": "markdown",
      "source": [
        "### Logical Branching"
      ],
      "metadata": {
        "id": "xApDPXnTv2xj"
      }
    },
    {
      "cell_type": "code",
      "source": [
        "choice = \"apple\" #making a variable/option"
      ],
      "metadata": {
        "id": "e0M7Azbth_u3"
      },
      "execution_count": 13,
      "outputs": []
    },
    {
      "cell_type": "code",
      "source": [
        "if choice == \"apple\":\n",
        "  print(\"You choose apples.\")\n",
        "else:\n",
        "  print(\"You did not choose apples.\") #output"
      ],
      "metadata": {
        "colab": {
          "base_uri": "https://localhost:8080/"
        },
        "id": "9VoLDXjgwSSx",
        "outputId": "3851c971-8a61-48cb-9642-b935cbfd931e"
      },
      "execution_count": 14,
      "outputs": [
        {
          "output_type": "stream",
          "name": "stdout",
          "text": [
            "You choose apples.\n"
          ]
        }
      ]
    },
    {
      "cell_type": "code",
      "source": [
        "choice = \"orange\" #making another variable"
      ],
      "metadata": {
        "id": "YueQEzQfwUwM"
      },
      "execution_count": 15,
      "outputs": []
    },
    {
      "cell_type": "code",
      "source": [
        "if choice == \"apple\":\n",
        "  print(\"You choose apples.\")\n",
        "else:\n",
        "  print(\"You did not choose apples.\") "
      ],
      "metadata": {
        "colab": {
          "base_uri": "https://localhost:8080/"
        },
        "outputId": "b6eff36e-6a9c-4c73-8209-7870c9d54c1c",
        "id": "P88tbCMiwUwN"
      },
      "execution_count": 16,
      "outputs": [
        {
          "output_type": "stream",
          "name": "stdout",
          "text": [
            "You did not choose apples.\n"
          ]
        }
      ]
    },
    {
      "cell_type": "code",
      "source": [
        "choice = \"apple\""
      ],
      "metadata": {
        "id": "pMJWHWfLCBAz"
      },
      "execution_count": 17,
      "outputs": []
    },
    {
      "cell_type": "code",
      "source": [
        "if choice == \"apple\":\n",
        "  print(\"You choose apples.\")\n",
        "  print(\"Thank you, shop again!\")\n",
        "  print(2**123)\n",
        "elif choice == \"orange\":\n",
        "  print(\"You choose oranges.\")\n",
        "  print(\"Thank you, shop again!\")\n",
        "else:\n",
        "  print(\"You did not choose apples or oranges.\")\n",
        "  print(\"Thank you, shop again!\") #making multiple options for the output"
      ],
      "metadata": {
        "colab": {
          "base_uri": "https://localhost:8080/"
        },
        "id": "aLYE3A7Qv5Oq",
        "outputId": "235ff891-32b6-4118-d587-f034f4af578a"
      },
      "execution_count": 18,
      "outputs": [
        {
          "output_type": "stream",
          "name": "stdout",
          "text": [
            "You choose apples.\n",
            "Thank you, shop again!\n",
            "10633823966279326983230456482242756608\n"
          ]
        }
      ]
    },
    {
      "cell_type": "markdown",
      "source": [
        "### User Input"
      ],
      "metadata": {
        "id": "DS5-YMih0kcD"
      }
    },
    {
      "cell_type": "code",
      "source": [
        "choice = input(\"Please enter your choice (i.e. apple): \") #input being a sentence with output and the full sentence"
      ],
      "metadata": {
        "id": "VtkIsuCmv5T4",
        "colab": {
          "base_uri": "https://localhost:8080/"
        },
        "outputId": "8f6e5b89-029d-4a67-db48-d3e5a1823a36"
      },
      "execution_count": 19,
      "outputs": [
        {
          "name": "stdout",
          "output_type": "stream",
          "text": [
            "Please enter your choice (i.e. apple): \n"
          ]
        }
      ]
    },
    {
      "cell_type": "code",
      "source": [
        "choice #displays what was written in choice"
      ],
      "metadata": {
        "colab": {
          "base_uri": "https://localhost:8080/",
          "height": 38
        },
        "id": "qRPsF5Njv5WL",
        "outputId": "a4d937c6-4947-42bc-c75b-2de7e27b3d2b"
      },
      "execution_count": 20,
      "outputs": [
        {
          "output_type": "execute_result",
          "data": {
            "text/plain": [
              "''"
            ],
            "application/vnd.google.colaboratory.intrinsic+json": {
              "type": "string"
            }
          },
          "metadata": {},
          "execution_count": 20
        }
      ]
    },
    {
      "cell_type": "code",
      "source": [
        "if choice == \"apple\":\n",
        "  print(\"You choose apples.\")\n",
        "elif choice == \"oranges\":\n",
        "  print(\"You choose oranges.\")\n",
        "else:\n",
        "  print(\"You did not choose apples or oranges.\") #giving options for the output"
      ],
      "metadata": {
        "id": "VAMAM01i0ytR",
        "colab": {
          "base_uri": "https://localhost:8080/"
        },
        "outputId": "20ae9e30-f2ca-4708-e15b-0d8cdb943eb6"
      },
      "execution_count": 21,
      "outputs": [
        {
          "output_type": "stream",
          "name": "stdout",
          "text": [
            "You did not choose apples or oranges.\n"
          ]
        }
      ]
    },
    {
      "cell_type": "markdown",
      "source": [
        "#### Coins"
      ],
      "metadata": {
        "id": "W-bPqHQs5WEW"
      }
    },
    {
      "cell_type": "code",
      "source": [
        "import numpy as np"
      ],
      "metadata": {
        "id": "voqZubzkNMlv"
      },
      "execution_count": 22,
      "outputs": []
    },
    {
      "cell_type": "code",
      "source": [
        "np.random.random() #random number generator"
      ],
      "metadata": {
        "id": "Qo72tOfu5YTm",
        "colab": {
          "base_uri": "https://localhost:8080/"
        },
        "outputId": "8c17fec1-5f8b-4e5f-8a20-aa1fb4c2fa51"
      },
      "execution_count": 23,
      "outputs": [
        {
          "output_type": "execute_result",
          "data": {
            "text/plain": [
              "0.818953902556998"
            ]
          },
          "metadata": {},
          "execution_count": 23
        }
      ]
    },
    {
      "cell_type": "code",
      "source": [
        "np.random.random() > 0.5"
      ],
      "metadata": {
        "id": "Ew6vCebg5aXK",
        "colab": {
          "base_uri": "https://localhost:8080/"
        },
        "outputId": "b6edf852-5363-4b4f-ae47-dffb02e222e0"
      },
      "execution_count": 24,
      "outputs": [
        {
          "output_type": "execute_result",
          "data": {
            "text/plain": [
              "False"
            ]
          },
          "metadata": {},
          "execution_count": 24
        }
      ]
    },
    {
      "cell_type": "code",
      "source": [
        "def flip_coin():\n",
        "    if np.random.random() > 0.5:\n",
        "        print(\"Heads\")\n",
        "    else:\n",
        "        print(\"Tails\")"
      ],
      "metadata": {
        "id": "HwbqZHbm5e2u"
      },
      "execution_count": 25,
      "outputs": []
    },
    {
      "cell_type": "code",
      "source": [
        "flip_coin() #output from flip coin (can be heads or tails)"
      ],
      "metadata": {
        "id": "ZcbnR1ln5sNh",
        "colab": {
          "base_uri": "https://localhost:8080/"
        },
        "outputId": "a20452f5-a848-4a85-b0bc-a8dd3063d759"
      },
      "execution_count": 26,
      "outputs": [
        {
          "output_type": "stream",
          "name": "stdout",
          "text": [
            "Tails\n"
          ]
        }
      ]
    },
    {
      "cell_type": "markdown",
      "source": [
        "### Graphics Output"
      ],
      "metadata": {
        "id": "lrL2Razq9AT7"
      }
    },
    {
      "cell_type": "code",
      "metadata": {
        "id": "WPnpRgBWpoSP"
      },
      "source": [
        "from IPython.core.display import display, HTML"
      ],
      "execution_count": 27,
      "outputs": []
    },
    {
      "cell_type": "code",
      "metadata": {
        "id": "scoPAjX5I36X",
        "colab": {
          "base_uri": "https://localhost:8080/",
          "height": 74
        },
        "outputId": "7fd4b01b-17ab-4b4b-bba9-847af54a0ee4"
      },
      "source": [
        "display(HTML('<h1>Hello, world!</h1>'))"
      ],
      "execution_count": 28,
      "outputs": [
        {
          "output_type": "display_data",
          "data": {
            "text/plain": [
              "<IPython.core.display.HTML object>"
            ],
            "text/html": [
              "<h1>Hello, world!</h1>"
            ]
          },
          "metadata": {}
        }
      ]
    },
    {
      "cell_type": "code",
      "metadata": {
        "id": "vFHNmtSRpyXg"
      },
      "source": [
        "def coin():\n",
        "  return np.random.randint(2)"
      ],
      "execution_count": 29,
      "outputs": []
    },
    {
      "cell_type": "code",
      "metadata": {
        "id": "AfAPWIjzp2gY",
        "colab": {
          "base_uri": "https://localhost:8080/"
        },
        "outputId": "77836b8b-6d25-4009-f9f8-e8618f147714"
      },
      "source": [
        "coin() #output"
      ],
      "execution_count": 30,
      "outputs": [
        {
          "output_type": "execute_result",
          "data": {
            "text/plain": [
              "1"
            ]
          },
          "metadata": {},
          "execution_count": 30
        }
      ]
    },
    {
      "cell_type": "code",
      "metadata": {
        "id": "m-fkSNLTp4TH",
        "colab": {
          "base_uri": "https://localhost:8080/",
          "height": 221
        },
        "outputId": "0deebb0a-7c3f-4c7a-c896-723571e6c6fb"
      },
      "source": [
        "display(HTML('<img src=\"https://random-ize.com/coin-flip/us-quarter/us-quarter-front.jpg\">')) #front side of quarter (heads)"
      ],
      "execution_count": 31,
      "outputs": [
        {
          "output_type": "display_data",
          "data": {
            "text/plain": [
              "<IPython.core.display.HTML object>"
            ],
            "text/html": [
              "<img src=\"https://random-ize.com/coin-flip/us-quarter/us-quarter-front.jpg\">"
            ]
          },
          "metadata": {}
        }
      ]
    },
    {
      "cell_type": "code",
      "metadata": {
        "id": "PAyD2RQrq8ji"
      },
      "source": [
        "heads = 'https://random-ize.com/coin-flip/us-quarter/us-quarter-front.jpg'\n",
        "tails = 'https://random-ize.com/coin-flip/us-quarter/us-quarter-back.jpg' #naming heads and tails"
      ],
      "execution_count": 32,
      "outputs": []
    },
    {
      "cell_type": "code",
      "metadata": {
        "id": "BmZMzsCjrhaV"
      },
      "source": [
        "def show_img(img):\n",
        "  display(HTML('<img src=' + img + '>'))"
      ],
      "execution_count": 33,
      "outputs": []
    },
    {
      "cell_type": "code",
      "metadata": {
        "id": "UmSs0Jtrr_d2",
        "colab": {
          "base_uri": "https://localhost:8080/",
          "height": 221
        },
        "outputId": "968133e6-10a7-4624-d9bc-6b414f50b81b"
      },
      "source": [
        "show_img(heads)"
      ],
      "execution_count": 34,
      "outputs": [
        {
          "output_type": "display_data",
          "data": {
            "text/plain": [
              "<IPython.core.display.HTML object>"
            ],
            "text/html": [
              "<img src=https://random-ize.com/coin-flip/us-quarter/us-quarter-front.jpg>"
            ]
          },
          "metadata": {}
        }
      ]
    },
    {
      "cell_type": "code",
      "metadata": {
        "id": "LDcFpan0sBgm",
        "colab": {
          "base_uri": "https://localhost:8080/",
          "height": 221
        },
        "outputId": "0d11e64f-9c08-4a7b-ef1c-aeb17114e9b3"
      },
      "source": [
        "show_img(tails)"
      ],
      "execution_count": 35,
      "outputs": [
        {
          "output_type": "display_data",
          "data": {
            "text/plain": [
              "<IPython.core.display.HTML object>"
            ],
            "text/html": [
              "<img src=https://random-ize.com/coin-flip/us-quarter/us-quarter-back.jpg>"
            ]
          },
          "metadata": {}
        }
      ]
    },
    {
      "cell_type": "code",
      "metadata": {
        "id": "U1Oe2gBlsFFQ"
      },
      "source": [
        "def flip_coin():\n",
        "\n",
        "    if coin():\n",
        "        show_img(heads)\n",
        "    else:\n",
        "        show_img(tails)"
      ],
      "execution_count": 36,
      "outputs": []
    },
    {
      "cell_type": "code",
      "metadata": {
        "id": "qatV0cO1tLAF",
        "colab": {
          "base_uri": "https://localhost:8080/",
          "height": 221
        },
        "outputId": "659e4494-39e4-4a83-e7c7-93354a988fb0"
      },
      "source": [
        "flip_coin()"
      ],
      "execution_count": 37,
      "outputs": [
        {
          "output_type": "display_data",
          "data": {
            "text/plain": [
              "<IPython.core.display.HTML object>"
            ],
            "text/html": [
              "<img src=https://random-ize.com/coin-flip/us-quarter/us-quarter-back.jpg>"
            ]
          },
          "metadata": {}
        }
      ]
    },
    {
      "cell_type": "code",
      "source": [
        "for i in range(5):\n",
        "    flip_coin()"
      ],
      "metadata": {
        "id": "JK_63sBc9ze4",
        "colab": {
          "base_uri": "https://localhost:8080/",
          "height": 1000
        },
        "outputId": "b2080126-6bee-4afa-fce9-a092acd32d9e"
      },
      "execution_count": 38,
      "outputs": [
        {
          "output_type": "display_data",
          "data": {
            "text/plain": [
              "<IPython.core.display.HTML object>"
            ],
            "text/html": [
              "<img src=https://random-ize.com/coin-flip/us-quarter/us-quarter-front.jpg>"
            ]
          },
          "metadata": {}
        },
        {
          "output_type": "display_data",
          "data": {
            "text/plain": [
              "<IPython.core.display.HTML object>"
            ],
            "text/html": [
              "<img src=https://random-ize.com/coin-flip/us-quarter/us-quarter-front.jpg>"
            ]
          },
          "metadata": {}
        },
        {
          "output_type": "display_data",
          "data": {
            "text/plain": [
              "<IPython.core.display.HTML object>"
            ],
            "text/html": [
              "<img src=https://random-ize.com/coin-flip/us-quarter/us-quarter-back.jpg>"
            ]
          },
          "metadata": {}
        },
        {
          "output_type": "display_data",
          "data": {
            "text/plain": [
              "<IPython.core.display.HTML object>"
            ],
            "text/html": [
              "<img src=https://random-ize.com/coin-flip/us-quarter/us-quarter-back.jpg>"
            ]
          },
          "metadata": {}
        },
        {
          "output_type": "display_data",
          "data": {
            "text/plain": [
              "<IPython.core.display.HTML object>"
            ],
            "text/html": [
              "<img src=https://random-ize.com/coin-flip/us-quarter/us-quarter-back.jpg>"
            ]
          },
          "metadata": {}
        }
      ]
    },
    {
      "cell_type": "code",
      "metadata": {
        "id": "T6VX51Qwt4xb",
        "colab": {
          "base_uri": "https://localhost:8080/",
          "height": 221
        },
        "outputId": "aad4cfd0-c18e-4c72-cc9d-ba486c297933",
        "cellView": "form"
      },
      "source": [
        "#@title Coin Flip\n",
        "if coin():\n",
        "  show_img(heads)\n",
        "else:\n",
        "  show_img(tails) #making just an image"
      ],
      "execution_count": 39,
      "outputs": [
        {
          "output_type": "display_data",
          "data": {
            "text/plain": [
              "<IPython.core.display.HTML object>"
            ],
            "text/html": [
              "<img src=https://random-ize.com/coin-flip/us-quarter/us-quarter-back.jpg>"
            ]
          },
          "metadata": {}
        }
      ]
    },
    {
      "cell_type": "markdown",
      "source": [
        "### Cards"
      ],
      "metadata": {
        "id": "HYFhDwx-5Tmb"
      }
    },
    {
      "cell_type": "code",
      "source": [
        "def shuffle(x):\n",
        "  for i in range(len(x)-1,0,-1):\n",
        "    j = np.random.randint(0,i+1)\n",
        "    x[i],x[j] = x[j],x[i]\n",
        "    #print(j,x)\n",
        "  return x #multiple random number generator"
      ],
      "metadata": {
        "id": "Q7_rInrY0wvF"
      },
      "execution_count": null,
      "outputs": []
    },
    {
      "cell_type": "code",
      "source": [
        "a = np.arange(52) #52 different random numbers"
      ],
      "metadata": {
        "id": "b_ywmb911RR0"
      },
      "execution_count": null,
      "outputs": []
    },
    {
      "cell_type": "code",
      "source": [
        "shuffle(a) #output created for cards"
      ],
      "metadata": {
        "id": "hp96Lx2n9tCg",
        "colab": {
          "base_uri": "https://localhost:8080/"
        },
        "outputId": "e374b571-3d18-44aa-ea52-9453af64aff8"
      },
      "execution_count": null,
      "outputs": [
        {
          "output_type": "execute_result",
          "data": {
            "text/plain": [
              "array([44,  8, 45, 48, 28, 13,  3, 10, 12, 29, 23, 42,  6, 15,  0, 47, 21,\n",
              "       36, 46, 51, 49, 32, 40, 27, 37,  9, 34,  4, 30,  5, 24, 22, 20,  7,\n",
              "       11, 14, 25,  2, 31, 19, 18, 33, 16,  1, 41, 38, 39, 17, 35, 50, 43,\n",
              "       26])"
            ]
          },
          "metadata": {},
          "execution_count": 61
        }
      ]
    },
    {
      "cell_type": "code",
      "source": [
        "np.random.permutation(52)"
      ],
      "metadata": {
        "id": "DRlb5RrU2Xpz"
      },
      "execution_count": null,
      "outputs": []
    },
    {
      "cell_type": "markdown",
      "source": [
        "### Speed Test"
      ],
      "metadata": {
        "id": "qE1o4X7A-NnY"
      }
    },
    {
      "cell_type": "code",
      "source": [
        "%%timeit\n",
        "shuffle(a) #shuffle 52 random numbers"
      ],
      "metadata": {
        "id": "quhAyA2x-Dhg",
        "colab": {
          "base_uri": "https://localhost:8080/"
        },
        "outputId": "cba2427d-fa7b-4eb8-9a9e-c6a40c2a2657"
      },
      "execution_count": null,
      "outputs": [
        {
          "output_type": "stream",
          "name": "stdout",
          "text": [
            "169 µs ± 4.9 µs per loop (mean ± std. dev. of 7 runs, 10000 loops each)\n"
          ]
        }
      ]
    },
    {
      "cell_type": "code",
      "source": [
        "%%timeit\n",
        "np.random.permutation(52) "
      ],
      "metadata": {
        "id": "tSfGgWQD95RN",
        "colab": {
          "base_uri": "https://localhost:8080/"
        },
        "outputId": "f6bb7a0e-fb7e-4fb6-f499-88c21cc46472"
      },
      "execution_count": null,
      "outputs": [
        {
          "output_type": "stream",
          "name": "stdout",
          "text": [
            "3.4 µs ± 196 ns per loop (mean ± std. dev. of 7 runs, 100000 loops each)\n"
          ]
        }
      ]
    },
    {
      "cell_type": "code",
      "source": [
        "import numpy as np"
      ],
      "metadata": {
        "id": "BeE0MU3UDB5P"
      },
      "execution_count": null,
      "outputs": []
    },
    {
      "cell_type": "code",
      "source": [
        "np.random.permutation(52) #mixed up"
      ],
      "metadata": {
        "colab": {
          "base_uri": "https://localhost:8080/"
        },
        "id": "2d81sDv-C5fC",
        "outputId": "94c5b33b-6971-4865-dfef-2b5eb0450591"
      },
      "execution_count": null,
      "outputs": [
        {
          "output_type": "execute_result",
          "data": {
            "text/plain": [
              "array([51,  2, 17, 20, 19, 44,  8, 37,  0, 24, 12,  6,  1,  3, 25,  4, 34,\n",
              "       36, 16, 10, 27, 50, 47, 28, 33, 42, 41, 45,  5, 40, 26, 32, 46, 38,\n",
              "       31, 35, 49, 39, 23, 13, 29, 30, 21, 14, 11, 48, 43, 15, 18,  9,  7,\n",
              "       22])"
            ]
          },
          "metadata": {},
          "execution_count": 65
        }
      ]
    },
    {
      "cell_type": "code",
      "source": [
        "cards = np.random.permutation(52)"
      ],
      "metadata": {
        "id": "utgxB3Hs-XzM"
      },
      "execution_count": null,
      "outputs": []
    },
    {
      "cell_type": "code",
      "source": [
        "cards #different "
      ],
      "metadata": {
        "colab": {
          "base_uri": "https://localhost:8080/"
        },
        "id": "ymjkesO4DeL8",
        "outputId": "b4856aed-0b2e-45b4-dc84-05608e904168"
      },
      "execution_count": null,
      "outputs": [
        {
          "output_type": "execute_result",
          "data": {
            "text/plain": [
              "array([42, 25, 13, 12, 34, 27, 39, 24,  8, 32, 43, 48, 50,  4, 41, 49,  6,\n",
              "       29,  7, 31, 26, 36, 45, 38,  1, 10, 46, 35, 20,  9, 47, 21, 23, 14,\n",
              "       15, 22, 16, 33, 19, 18,  5, 30,  2, 11, 17,  3, 28,  0, 51, 37, 44,\n",
              "       40])"
            ]
          },
          "metadata": {},
          "execution_count": 67
        }
      ]
    },
    {
      "cell_type": "code",
      "source": [
        "cards[0] #one of the ouputs"
      ],
      "metadata": {
        "id": "aD_pF-bb2XMr",
        "colab": {
          "base_uri": "https://localhost:8080/"
        },
        "outputId": "cf181a37-eeae-473a-c560-2d96119e0ed6"
      },
      "execution_count": null,
      "outputs": [
        {
          "output_type": "execute_result",
          "data": {
            "text/plain": [
              "42"
            ]
          },
          "metadata": {},
          "execution_count": 68
        }
      ]
    },
    {
      "cell_type": "code",
      "source": [
        "cards[1] #one of the ouputs"
      ],
      "metadata": {
        "colab": {
          "base_uri": "https://localhost:8080/"
        },
        "id": "oMX21ZDyC8GE",
        "outputId": "d82b32c3-b47c-484f-e6ef-cdc5c0e851fe"
      },
      "execution_count": null,
      "outputs": [
        {
          "output_type": "execute_result",
          "data": {
            "text/plain": [
              "25"
            ]
          },
          "metadata": {},
          "execution_count": 69
        }
      ]
    },
    {
      "cell_type": "code",
      "source": [
        "cards[2] #another output"
      ],
      "metadata": {
        "colab": {
          "base_uri": "https://localhost:8080/"
        },
        "id": "iHJdkqRiC8Li",
        "outputId": "c607d51b-712f-476f-b236-d9b42f897a97"
      },
      "execution_count": null,
      "outputs": [
        {
          "output_type": "execute_result",
          "data": {
            "text/plain": [
              "13"
            ]
          },
          "metadata": {},
          "execution_count": 70
        }
      ]
    },
    {
      "cell_type": "code",
      "source": [
        "np.arange(52).reshape(4,13) #written as numbers 0-12 and cont."
      ],
      "metadata": {
        "id": "X2kL-cZdeMLN",
        "colab": {
          "base_uri": "https://localhost:8080/"
        },
        "outputId": "12fde18f-21ab-450b-ac88-3727817e8727"
      },
      "execution_count": 40,
      "outputs": [
        {
          "output_type": "execute_result",
          "data": {
            "text/plain": [
              "array([[ 0,  1,  2,  3,  4,  5,  6,  7,  8,  9, 10, 11, 12],\n",
              "       [13, 14, 15, 16, 17, 18, 19, 20, 21, 22, 23, 24, 25],\n",
              "       [26, 27, 28, 29, 30, 31, 32, 33, 34, 35, 36, 37, 38],\n",
              "       [39, 40, 41, 42, 43, 44, 45, 46, 47, 48, 49, 50, 51]])"
            ]
          },
          "metadata": {},
          "execution_count": 40
        }
      ]
    },
    {
      "cell_type": "code",
      "source": [
        "np.arange(52).reshape(4,13)%13 #written as only 0-12"
      ],
      "metadata": {
        "id": "YfRxhh8BeV_a",
        "colab": {
          "base_uri": "https://localhost:8080/"
        },
        "outputId": "93e77719-7a4e-4667-ad52-1401927d1ea2"
      },
      "execution_count": 41,
      "outputs": [
        {
          "output_type": "execute_result",
          "data": {
            "text/plain": [
              "array([[ 0,  1,  2,  3,  4,  5,  6,  7,  8,  9, 10, 11, 12],\n",
              "       [ 0,  1,  2,  3,  4,  5,  6,  7,  8,  9, 10, 11, 12],\n",
              "       [ 0,  1,  2,  3,  4,  5,  6,  7,  8,  9, 10, 11, 12],\n",
              "       [ 0,  1,  2,  3,  4,  5,  6,  7,  8,  9, 10, 11, 12]])"
            ]
          },
          "metadata": {},
          "execution_count": 41
        }
      ]
    },
    {
      "cell_type": "code",
      "source": [
        "np.arange(52).reshape(4,13)//13 #wrtitten in 4 rows"
      ],
      "metadata": {
        "id": "fdzIqJr9e60L",
        "colab": {
          "base_uri": "https://localhost:8080/"
        },
        "outputId": "1b46deac-d1c3-4dc0-e6b0-82b00b66e7f0"
      },
      "execution_count": 42,
      "outputs": [
        {
          "output_type": "execute_result",
          "data": {
            "text/plain": [
              "array([[0, 0, 0, 0, 0, 0, 0, 0, 0, 0, 0, 0, 0],\n",
              "       [1, 1, 1, 1, 1, 1, 1, 1, 1, 1, 1, 1, 1],\n",
              "       [2, 2, 2, 2, 2, 2, 2, 2, 2, 2, 2, 2, 2],\n",
              "       [3, 3, 3, 3, 3, 3, 3, 3, 3, 3, 3, 3, 3]])"
            ]
          },
          "metadata": {},
          "execution_count": 42
        }
      ]
    },
    {
      "cell_type": "code",
      "source": [
        "suits = ['Clubs','Spades','Hearts','Diamonds']\n",
        "names = ['Ace','Two','Three','Four','Five','Six','Seven','Eight','Nine','Ten','Jack','Queen','King'] #creates the deck with suits and names"
      ],
      "metadata": {
        "id": "-xUjbfkQfUgL"
      },
      "execution_count": 43,
      "outputs": []
    },
    {
      "cell_type": "code",
      "source": [
        "def card_name(card_number):  \n",
        "  suit = card_number//13\n",
        "  name = card_number%13\n",
        "  return names[name] + \" of \" + suits[suit] #code to make the deck"
      ],
      "metadata": {
        "id": "-e-I-Cp7eFnx"
      },
      "execution_count": 44,
      "outputs": []
    },
    {
      "cell_type": "code",
      "source": [
        "card_name(0) #beginning"
      ],
      "metadata": {
        "colab": {
          "base_uri": "https://localhost:8080/",
          "height": 38
        },
        "id": "3Jz3yyAtGPfX",
        "outputId": "ba9e282a-4d04-42fc-fa35-b1cc04e1acc5"
      },
      "execution_count": 45,
      "outputs": [
        {
          "output_type": "execute_result",
          "data": {
            "text/plain": [
              "'Ace of Clubs'"
            ],
            "application/vnd.google.colaboratory.intrinsic+json": {
              "type": "string"
            }
          },
          "metadata": {},
          "execution_count": 45
        }
      ]
    },
    {
      "cell_type": "code",
      "source": [
        "card_name(51) #end"
      ],
      "metadata": {
        "colab": {
          "base_uri": "https://localhost:8080/",
          "height": 38
        },
        "id": "WO3GC8uiGPp-",
        "outputId": "b5783b93-897f-44e3-da2a-dbba17f0a13d"
      },
      "execution_count": 46,
      "outputs": [
        {
          "output_type": "execute_result",
          "data": {
            "text/plain": [
              "'King of Diamonds'"
            ],
            "application/vnd.google.colaboratory.intrinsic+json": {
              "type": "string"
            }
          },
          "metadata": {},
          "execution_count": 46
        }
      ]
    },
    {
      "cell_type": "code",
      "source": [
        "cards = np.random.permutation(52)"
      ],
      "metadata": {
        "id": "fAMR6SY43iB_"
      },
      "execution_count": 47,
      "outputs": []
    },
    {
      "cell_type": "code",
      "source": [
        "top_of_deck         = card_name(cards[0])\n",
        "second_card_in_deck = card_name(cards[1])\n",
        "last_card_in_deck   = card_name(cards[-1]) #setting variables (card in deck) to a specific card"
      ],
      "metadata": {
        "id": "XGAe8yPY3iCA"
      },
      "execution_count": 67,
      "outputs": []
    },
    {
      "cell_type": "code",
      "source": [
        "top_of_deck, second_card_in_deck, last_card_in_deck #outout"
      ],
      "metadata": {
        "id": "erDo7giQ3fg6",
        "colab": {
          "base_uri": "https://localhost:8080/"
        },
        "outputId": "2eddfd33-6f27-4871-9a76-3799ed5bcac7"
      },
      "execution_count": 68,
      "outputs": [
        {
          "output_type": "execute_result",
          "data": {
            "text/plain": [
              "('Ten of Clubs', 'Four of Diamonds', 'Jack of Clubs')"
            ]
          },
          "metadata": {},
          "execution_count": 68
        }
      ]
    },
    {
      "cell_type": "code",
      "source": [
        "for i in range(5):\n",
        "    print(card_name(cards[i])) #flipping 5 random cards"
      ],
      "metadata": {
        "id": "D_TDdCHv30GR",
        "colab": {
          "base_uri": "https://localhost:8080/"
        },
        "outputId": "b5dc80bd-f223-4ae4-beef-f2e249aded02"
      },
      "execution_count": 69,
      "outputs": [
        {
          "output_type": "stream",
          "name": "stdout",
          "text": [
            "Ten of Clubs\n",
            "Four of Diamonds\n",
            "Nine of Hearts\n",
            "King of Diamonds\n",
            "Seven of Clubs\n"
          ]
        }
      ]
    },
    {
      "cell_type": "code",
      "source": [
        "for i in range(15):\n",
        "    print(card_name(cards[i])) #flipping 15 random cards"
      ],
      "metadata": {
        "colab": {
          "base_uri": "https://localhost:8080/"
        },
        "id": "_g9tC5TNHvXh",
        "outputId": "dd4a766b-a9a7-4075-f2ec-9f7c63caa340"
      },
      "execution_count": 70,
      "outputs": [
        {
          "output_type": "stream",
          "name": "stdout",
          "text": [
            "Ten of Clubs\n",
            "Four of Diamonds\n",
            "Nine of Hearts\n",
            "King of Diamonds\n",
            "Seven of Clubs\n",
            "Nine of Clubs\n",
            "Seven of Diamonds\n",
            "Four of Spades\n",
            "Eight of Hearts\n",
            "Three of Diamonds\n",
            "Ace of Diamonds\n",
            "King of Hearts\n",
            "Two of Clubs\n",
            "Seven of Spades\n",
            "Eight of Clubs\n"
          ]
        }
      ]
    },
    {
      "cell_type": "markdown",
      "source": [
        "https://www.improvemagic.com/all-playing-cards-names-with-pictures/"
      ],
      "metadata": {
        "id": "vdqtmIBN_a7r"
      }
    },
    {
      "cell_type": "code",
      "source": [
        "card_url_head = \"https://www.improvemagic.com/wp-content/uploads/2020/11/\"\n",
        "card_url_tail = \".png\" #setting pictures to the variables"
      ],
      "metadata": {
        "id": "ZuGAbJIC_BGM"
      },
      "execution_count": 71,
      "outputs": []
    },
    {
      "cell_type": "code",
      "source": [
        "suit = ['d','h','s','c']\n",
        "card = ['a','2','3','4','5','6','7','8','9','10','j','q','k']  #setting suits and numbers"
      ],
      "metadata": {
        "id": "FSYUTq2F_BIx"
      },
      "execution_count": 72,
      "outputs": []
    },
    {
      "cell_type": "code",
      "source": [
        "i = np.random.randint(4)\n",
        "j = np.random.randint(13) "
      ],
      "metadata": {
        "id": "4UBNVwxU_BL5"
      },
      "execution_count": 74,
      "outputs": []
    },
    {
      "cell_type": "code",
      "source": [
        "i,j #randomed output"
      ],
      "metadata": {
        "colab": {
          "base_uri": "https://localhost:8080/"
        },
        "id": "pAx5veOKJYqk",
        "outputId": "be55f320-1159-4183-f875-b4454d4f3e93"
      },
      "execution_count": 73,
      "outputs": [
        {
          "output_type": "execute_result",
          "data": {
            "text/plain": [
              "(14, 8)"
            ]
          },
          "metadata": {},
          "execution_count": 73
        }
      ]
    },
    {
      "cell_type": "code",
      "source": [
        "suit[i] #random suit"
      ],
      "metadata": {
        "id": "PJI87rOLADjE",
        "colab": {
          "base_uri": "https://localhost:8080/",
          "height": 38
        },
        "outputId": "4b79f7c6-3fc2-4492-d01d-9a43902b7d07"
      },
      "execution_count": 76,
      "outputs": [
        {
          "output_type": "execute_result",
          "data": {
            "text/plain": [
              "'h'"
            ],
            "application/vnd.google.colaboratory.intrinsic+json": {
              "type": "string"
            }
          },
          "metadata": {},
          "execution_count": 76
        }
      ]
    },
    {
      "cell_type": "code",
      "source": [
        "card[j] #random card"
      ],
      "metadata": {
        "id": "4CDlPu3QAGrB",
        "colab": {
          "base_uri": "https://localhost:8080/",
          "height": 38
        },
        "outputId": "5cfe854d-17ec-462e-a3c4-0aaf7e7927c7"
      },
      "execution_count": 77,
      "outputs": [
        {
          "output_type": "execute_result",
          "data": {
            "text/plain": [
              "'k'"
            ],
            "application/vnd.google.colaboratory.intrinsic+json": {
              "type": "string"
            }
          },
          "metadata": {},
          "execution_count": 77
        }
      ]
    },
    {
      "cell_type": "code",
      "source": [
        "from IPython.core.display import display, HTML"
      ],
      "metadata": {
        "id": "nMrvAOnhK7EK"
      },
      "execution_count": 58,
      "outputs": []
    },
    {
      "cell_type": "code",
      "source": [
        "def show_img(img):\n",
        "  display(HTML('<img src=' + img + '>')) "
      ],
      "metadata": {
        "id": "sdXvvvlkAI6h"
      },
      "execution_count": 59,
      "outputs": []
    },
    {
      "cell_type": "code",
      "source": [
        "img = card_url_head + suit[i] + card[j] + card_url_tail"
      ],
      "metadata": {
        "id": "ZE-ENtczAVsM"
      },
      "execution_count": 60,
      "outputs": []
    },
    {
      "cell_type": "code",
      "source": [
        "show_img(img) #setting images to cards, output"
      ],
      "metadata": {
        "id": "XJpPMK-NAVu4",
        "colab": {
          "base_uri": "https://localhost:8080/",
          "height": 334
        },
        "outputId": "203ca014-bdf9-4b55-99c4-294b4118dbcf"
      },
      "execution_count": 78,
      "outputs": [
        {
          "output_type": "display_data",
          "data": {
            "text/plain": [
              "<IPython.core.display.HTML object>"
            ],
            "text/html": [
              "<img src=https://www.improvemagic.com/wp-content/uploads/2020/11/lk.png>"
            ]
          },
          "metadata": {}
        }
      ]
    },
    {
      "cell_type": "code",
      "source": [
        "def card_image(card_number):\n",
        "    \n",
        "    i = card_number//13\n",
        "    j = card_number%13\n",
        "\n",
        "    return suit[i]+card[j] "
      ],
      "metadata": {
        "id": "JtqOFl_WAVxd"
      },
      "execution_count": 79,
      "outputs": []
    },
    {
      "cell_type": "code",
      "source": [
        "card_image(3) #random set of suit and number"
      ],
      "metadata": {
        "id": "K1MVgXJ-AVz0",
        "colab": {
          "base_uri": "https://localhost:8080/",
          "height": 38
        },
        "outputId": "e585a019-c09d-469f-bf34-16a18d4871af"
      },
      "execution_count": 81,
      "outputs": [
        {
          "output_type": "execute_result",
          "data": {
            "text/plain": [
              "'d4'"
            ],
            "application/vnd.google.colaboratory.intrinsic+json": {
              "type": "string"
            }
          },
          "metadata": {},
          "execution_count": 81
        }
      ]
    },
    {
      "cell_type": "code",
      "source": [
        "img = card_url_head + card_image(3) + card_url_tail"
      ],
      "metadata": {
        "id": "2TGYbXUiB1iw"
      },
      "execution_count": 82,
      "outputs": []
    },
    {
      "cell_type": "code",
      "source": [
        "show_img(img)"
      ],
      "metadata": {
        "id": "Ve1UcoH3B5sS",
        "colab": {
          "base_uri": "https://localhost:8080/",
          "height": 41
        },
        "outputId": "77910694-639e-4d26-cd70-711e2767446c"
      },
      "execution_count": 83,
      "outputs": [
        {
          "output_type": "display_data",
          "data": {
            "text/plain": [
              "<IPython.core.display.HTML object>"
            ],
            "text/html": [
              "<img src=https://www.improvemagic.com/wp-content/uploads/2020/11/d4.png>"
            ]
          },
          "metadata": {}
        }
      ]
    },
    {
      "cell_type": "code",
      "source": [
        "for i in range(52):\n",
        "    img = card_url_head + card_image(i) + card_url_tail\n",
        "    show_img(img) #output image of all 52 cards"
      ],
      "metadata": {
        "id": "UCervcFTB5ut",
        "colab": {
          "base_uri": "https://localhost:8080/",
          "height": 1000
        },
        "outputId": "e8079437-a6f6-4e4a-8371-869e893388cc"
      },
      "execution_count": 84,
      "outputs": [
        {
          "output_type": "display_data",
          "data": {
            "text/plain": [
              "<IPython.core.display.HTML object>"
            ],
            "text/html": [
              "<img src=https://www.improvemagic.com/wp-content/uploads/2020/11/da.png>"
            ]
          },
          "metadata": {}
        },
        {
          "output_type": "display_data",
          "data": {
            "text/plain": [
              "<IPython.core.display.HTML object>"
            ],
            "text/html": [
              "<img src=https://www.improvemagic.com/wp-content/uploads/2020/11/d2.png>"
            ]
          },
          "metadata": {}
        },
        {
          "output_type": "display_data",
          "data": {
            "text/plain": [
              "<IPython.core.display.HTML object>"
            ],
            "text/html": [
              "<img src=https://www.improvemagic.com/wp-content/uploads/2020/11/d3.png>"
            ]
          },
          "metadata": {}
        },
        {
          "output_type": "display_data",
          "data": {
            "text/plain": [
              "<IPython.core.display.HTML object>"
            ],
            "text/html": [
              "<img src=https://www.improvemagic.com/wp-content/uploads/2020/11/d4.png>"
            ]
          },
          "metadata": {}
        },
        {
          "output_type": "display_data",
          "data": {
            "text/plain": [
              "<IPython.core.display.HTML object>"
            ],
            "text/html": [
              "<img src=https://www.improvemagic.com/wp-content/uploads/2020/11/d5.png>"
            ]
          },
          "metadata": {}
        },
        {
          "output_type": "display_data",
          "data": {
            "text/plain": [
              "<IPython.core.display.HTML object>"
            ],
            "text/html": [
              "<img src=https://www.improvemagic.com/wp-content/uploads/2020/11/d6.png>"
            ]
          },
          "metadata": {}
        },
        {
          "output_type": "display_data",
          "data": {
            "text/plain": [
              "<IPython.core.display.HTML object>"
            ],
            "text/html": [
              "<img src=https://www.improvemagic.com/wp-content/uploads/2020/11/d7.png>"
            ]
          },
          "metadata": {}
        },
        {
          "output_type": "display_data",
          "data": {
            "text/plain": [
              "<IPython.core.display.HTML object>"
            ],
            "text/html": [
              "<img src=https://www.improvemagic.com/wp-content/uploads/2020/11/d8.png>"
            ]
          },
          "metadata": {}
        },
        {
          "output_type": "display_data",
          "data": {
            "text/plain": [
              "<IPython.core.display.HTML object>"
            ],
            "text/html": [
              "<img src=https://www.improvemagic.com/wp-content/uploads/2020/11/d9.png>"
            ]
          },
          "metadata": {}
        },
        {
          "output_type": "display_data",
          "data": {
            "text/plain": [
              "<IPython.core.display.HTML object>"
            ],
            "text/html": [
              "<img src=https://www.improvemagic.com/wp-content/uploads/2020/11/d10.png>"
            ]
          },
          "metadata": {}
        },
        {
          "output_type": "display_data",
          "data": {
            "text/plain": [
              "<IPython.core.display.HTML object>"
            ],
            "text/html": [
              "<img src=https://www.improvemagic.com/wp-content/uploads/2020/11/dj.png>"
            ]
          },
          "metadata": {}
        },
        {
          "output_type": "display_data",
          "data": {
            "text/plain": [
              "<IPython.core.display.HTML object>"
            ],
            "text/html": [
              "<img src=https://www.improvemagic.com/wp-content/uploads/2020/11/dq.png>"
            ]
          },
          "metadata": {}
        },
        {
          "output_type": "display_data",
          "data": {
            "text/plain": [
              "<IPython.core.display.HTML object>"
            ],
            "text/html": [
              "<img src=https://www.improvemagic.com/wp-content/uploads/2020/11/dk.png>"
            ]
          },
          "metadata": {}
        },
        {
          "output_type": "display_data",
          "data": {
            "text/plain": [
              "<IPython.core.display.HTML object>"
            ],
            "text/html": [
              "<img src=https://www.improvemagic.com/wp-content/uploads/2020/11/ha.png>"
            ]
          },
          "metadata": {}
        },
        {
          "output_type": "display_data",
          "data": {
            "text/plain": [
              "<IPython.core.display.HTML object>"
            ],
            "text/html": [
              "<img src=https://www.improvemagic.com/wp-content/uploads/2020/11/h2.png>"
            ]
          },
          "metadata": {}
        },
        {
          "output_type": "display_data",
          "data": {
            "text/plain": [
              "<IPython.core.display.HTML object>"
            ],
            "text/html": [
              "<img src=https://www.improvemagic.com/wp-content/uploads/2020/11/h3.png>"
            ]
          },
          "metadata": {}
        },
        {
          "output_type": "display_data",
          "data": {
            "text/plain": [
              "<IPython.core.display.HTML object>"
            ],
            "text/html": [
              "<img src=https://www.improvemagic.com/wp-content/uploads/2020/11/h4.png>"
            ]
          },
          "metadata": {}
        },
        {
          "output_type": "display_data",
          "data": {
            "text/plain": [
              "<IPython.core.display.HTML object>"
            ],
            "text/html": [
              "<img src=https://www.improvemagic.com/wp-content/uploads/2020/11/h5.png>"
            ]
          },
          "metadata": {}
        },
        {
          "output_type": "display_data",
          "data": {
            "text/plain": [
              "<IPython.core.display.HTML object>"
            ],
            "text/html": [
              "<img src=https://www.improvemagic.com/wp-content/uploads/2020/11/h6.png>"
            ]
          },
          "metadata": {}
        },
        {
          "output_type": "display_data",
          "data": {
            "text/plain": [
              "<IPython.core.display.HTML object>"
            ],
            "text/html": [
              "<img src=https://www.improvemagic.com/wp-content/uploads/2020/11/h7.png>"
            ]
          },
          "metadata": {}
        },
        {
          "output_type": "display_data",
          "data": {
            "text/plain": [
              "<IPython.core.display.HTML object>"
            ],
            "text/html": [
              "<img src=https://www.improvemagic.com/wp-content/uploads/2020/11/h8.png>"
            ]
          },
          "metadata": {}
        },
        {
          "output_type": "display_data",
          "data": {
            "text/plain": [
              "<IPython.core.display.HTML object>"
            ],
            "text/html": [
              "<img src=https://www.improvemagic.com/wp-content/uploads/2020/11/h9.png>"
            ]
          },
          "metadata": {}
        },
        {
          "output_type": "display_data",
          "data": {
            "text/plain": [
              "<IPython.core.display.HTML object>"
            ],
            "text/html": [
              "<img src=https://www.improvemagic.com/wp-content/uploads/2020/11/h10.png>"
            ]
          },
          "metadata": {}
        },
        {
          "output_type": "display_data",
          "data": {
            "text/plain": [
              "<IPython.core.display.HTML object>"
            ],
            "text/html": [
              "<img src=https://www.improvemagic.com/wp-content/uploads/2020/11/hj.png>"
            ]
          },
          "metadata": {}
        },
        {
          "output_type": "display_data",
          "data": {
            "text/plain": [
              "<IPython.core.display.HTML object>"
            ],
            "text/html": [
              "<img src=https://www.improvemagic.com/wp-content/uploads/2020/11/hq.png>"
            ]
          },
          "metadata": {}
        },
        {
          "output_type": "display_data",
          "data": {
            "text/plain": [
              "<IPython.core.display.HTML object>"
            ],
            "text/html": [
              "<img src=https://www.improvemagic.com/wp-content/uploads/2020/11/hk.png>"
            ]
          },
          "metadata": {}
        },
        {
          "output_type": "display_data",
          "data": {
            "text/plain": [
              "<IPython.core.display.HTML object>"
            ],
            "text/html": [
              "<img src=https://www.improvemagic.com/wp-content/uploads/2020/11/sa.png>"
            ]
          },
          "metadata": {}
        },
        {
          "output_type": "display_data",
          "data": {
            "text/plain": [
              "<IPython.core.display.HTML object>"
            ],
            "text/html": [
              "<img src=https://www.improvemagic.com/wp-content/uploads/2020/11/s2.png>"
            ]
          },
          "metadata": {}
        },
        {
          "output_type": "display_data",
          "data": {
            "text/plain": [
              "<IPython.core.display.HTML object>"
            ],
            "text/html": [
              "<img src=https://www.improvemagic.com/wp-content/uploads/2020/11/s3.png>"
            ]
          },
          "metadata": {}
        },
        {
          "output_type": "display_data",
          "data": {
            "text/plain": [
              "<IPython.core.display.HTML object>"
            ],
            "text/html": [
              "<img src=https://www.improvemagic.com/wp-content/uploads/2020/11/s4.png>"
            ]
          },
          "metadata": {}
        },
        {
          "output_type": "display_data",
          "data": {
            "text/plain": [
              "<IPython.core.display.HTML object>"
            ],
            "text/html": [
              "<img src=https://www.improvemagic.com/wp-content/uploads/2020/11/s5.png>"
            ]
          },
          "metadata": {}
        },
        {
          "output_type": "display_data",
          "data": {
            "text/plain": [
              "<IPython.core.display.HTML object>"
            ],
            "text/html": [
              "<img src=https://www.improvemagic.com/wp-content/uploads/2020/11/s6.png>"
            ]
          },
          "metadata": {}
        },
        {
          "output_type": "display_data",
          "data": {
            "text/plain": [
              "<IPython.core.display.HTML object>"
            ],
            "text/html": [
              "<img src=https://www.improvemagic.com/wp-content/uploads/2020/11/s7.png>"
            ]
          },
          "metadata": {}
        },
        {
          "output_type": "display_data",
          "data": {
            "text/plain": [
              "<IPython.core.display.HTML object>"
            ],
            "text/html": [
              "<img src=https://www.improvemagic.com/wp-content/uploads/2020/11/s8.png>"
            ]
          },
          "metadata": {}
        },
        {
          "output_type": "display_data",
          "data": {
            "text/plain": [
              "<IPython.core.display.HTML object>"
            ],
            "text/html": [
              "<img src=https://www.improvemagic.com/wp-content/uploads/2020/11/s9.png>"
            ]
          },
          "metadata": {}
        },
        {
          "output_type": "display_data",
          "data": {
            "text/plain": [
              "<IPython.core.display.HTML object>"
            ],
            "text/html": [
              "<img src=https://www.improvemagic.com/wp-content/uploads/2020/11/s10.png>"
            ]
          },
          "metadata": {}
        },
        {
          "output_type": "display_data",
          "data": {
            "text/plain": [
              "<IPython.core.display.HTML object>"
            ],
            "text/html": [
              "<img src=https://www.improvemagic.com/wp-content/uploads/2020/11/sj.png>"
            ]
          },
          "metadata": {}
        },
        {
          "output_type": "display_data",
          "data": {
            "text/plain": [
              "<IPython.core.display.HTML object>"
            ],
            "text/html": [
              "<img src=https://www.improvemagic.com/wp-content/uploads/2020/11/sq.png>"
            ]
          },
          "metadata": {}
        },
        {
          "output_type": "display_data",
          "data": {
            "text/plain": [
              "<IPython.core.display.HTML object>"
            ],
            "text/html": [
              "<img src=https://www.improvemagic.com/wp-content/uploads/2020/11/sk.png>"
            ]
          },
          "metadata": {}
        },
        {
          "output_type": "display_data",
          "data": {
            "text/plain": [
              "<IPython.core.display.HTML object>"
            ],
            "text/html": [
              "<img src=https://www.improvemagic.com/wp-content/uploads/2020/11/ca.png>"
            ]
          },
          "metadata": {}
        },
        {
          "output_type": "display_data",
          "data": {
            "text/plain": [
              "<IPython.core.display.HTML object>"
            ],
            "text/html": [
              "<img src=https://www.improvemagic.com/wp-content/uploads/2020/11/c2.png>"
            ]
          },
          "metadata": {}
        },
        {
          "output_type": "display_data",
          "data": {
            "text/plain": [
              "<IPython.core.display.HTML object>"
            ],
            "text/html": [
              "<img src=https://www.improvemagic.com/wp-content/uploads/2020/11/c3.png>"
            ]
          },
          "metadata": {}
        },
        {
          "output_type": "display_data",
          "data": {
            "text/plain": [
              "<IPython.core.display.HTML object>"
            ],
            "text/html": [
              "<img src=https://www.improvemagic.com/wp-content/uploads/2020/11/c4.png>"
            ]
          },
          "metadata": {}
        },
        {
          "output_type": "display_data",
          "data": {
            "text/plain": [
              "<IPython.core.display.HTML object>"
            ],
            "text/html": [
              "<img src=https://www.improvemagic.com/wp-content/uploads/2020/11/c5.png>"
            ]
          },
          "metadata": {}
        },
        {
          "output_type": "display_data",
          "data": {
            "text/plain": [
              "<IPython.core.display.HTML object>"
            ],
            "text/html": [
              "<img src=https://www.improvemagic.com/wp-content/uploads/2020/11/c6.png>"
            ]
          },
          "metadata": {}
        },
        {
          "output_type": "display_data",
          "data": {
            "text/plain": [
              "<IPython.core.display.HTML object>"
            ],
            "text/html": [
              "<img src=https://www.improvemagic.com/wp-content/uploads/2020/11/c7.png>"
            ]
          },
          "metadata": {}
        },
        {
          "output_type": "display_data",
          "data": {
            "text/plain": [
              "<IPython.core.display.HTML object>"
            ],
            "text/html": [
              "<img src=https://www.improvemagic.com/wp-content/uploads/2020/11/c8.png>"
            ]
          },
          "metadata": {}
        },
        {
          "output_type": "display_data",
          "data": {
            "text/plain": [
              "<IPython.core.display.HTML object>"
            ],
            "text/html": [
              "<img src=https://www.improvemagic.com/wp-content/uploads/2020/11/c9.png>"
            ]
          },
          "metadata": {}
        },
        {
          "output_type": "display_data",
          "data": {
            "text/plain": [
              "<IPython.core.display.HTML object>"
            ],
            "text/html": [
              "<img src=https://www.improvemagic.com/wp-content/uploads/2020/11/c10.png>"
            ]
          },
          "metadata": {}
        },
        {
          "output_type": "display_data",
          "data": {
            "text/plain": [
              "<IPython.core.display.HTML object>"
            ],
            "text/html": [
              "<img src=https://www.improvemagic.com/wp-content/uploads/2020/11/cj.png>"
            ]
          },
          "metadata": {}
        },
        {
          "output_type": "display_data",
          "data": {
            "text/plain": [
              "<IPython.core.display.HTML object>"
            ],
            "text/html": [
              "<img src=https://www.improvemagic.com/wp-content/uploads/2020/11/cq.png>"
            ]
          },
          "metadata": {}
        },
        {
          "output_type": "display_data",
          "data": {
            "text/plain": [
              "<IPython.core.display.HTML object>"
            ],
            "text/html": [
              "<img src=https://www.improvemagic.com/wp-content/uploads/2020/11/ck.png>"
            ]
          },
          "metadata": {}
        }
      ]
    }
  ]
}