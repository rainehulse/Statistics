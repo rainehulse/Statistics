{
  "nbformat": 4,
  "nbformat_minor": 0,
  "metadata": {
    "colab": {
      "provenance": [],
      "authorship_tag": "ABX9TyNB/FRCcQP0dmwCw6pfgyzq",
      "include_colab_link": true
    },
    "kernelspec": {
      "name": "python3",
      "display_name": "Python 3"
    },
    "language_info": {
      "name": "python"
    }
  },
  "cells": [
    {
      "cell_type": "markdown",
      "metadata": {
        "id": "view-in-github",
        "colab_type": "text"
      },
      "source": [
        "<a href=\"https://colab.research.google.com/github/rainehulse/Statistics/blob/main/Hulse_Midterm.ipynb\" target=\"_parent\"><img src=\"https://colab.research.google.com/assets/colab-badge.svg\" alt=\"Open In Colab\"/></a>"
      ]
    },
    {
      "cell_type": "markdown",
      "source": [
        "#Stats Midterm Project"
      ],
      "metadata": {
        "id": "_ubmGklZzG0V"
      }
    },
    {
      "cell_type": "markdown",
      "source": [
        "##Linear Fit"
      ],
      "metadata": {
        "id": "pS7E6GRkzNM4"
      }
    },
    {
      "cell_type": "code",
      "execution_count": 7,
      "metadata": {
        "id": "vmsafPShRHOb"
      },
      "outputs": [],
      "source": [
        "import numpy as np\n",
        "import matplotlib.pyplot as plt #always need to use as first code"
      ]
    },
    {
      "cell_type": "code",
      "source": [
        "X = np.array([12,9,20,7,2]) #diameter of objects\n",
        "Y = np.array([38,28,63,22,6]) #circumference of objects"
      ],
      "metadata": {
        "id": "8rpfCIT3ROy1"
      },
      "execution_count": 8,
      "outputs": []
    },
    {
      "cell_type": "code",
      "source": [
        "plt.plot(X,Y,'g.') #plotting"
      ],
      "metadata": {
        "colab": {
          "base_uri": "https://localhost:8080/",
          "height": 282
        },
        "id": "ddU1M-CnRgR3",
        "outputId": "d0af1f1b-980d-496b-9927-bd1f205f0330"
      },
      "execution_count": null,
      "outputs": [
        {
          "output_type": "execute_result",
          "data": {
            "text/plain": [
              "[<matplotlib.lines.Line2D at 0x7f679e807d50>]"
            ]
          },
          "metadata": {},
          "execution_count": 13
        },
        {
          "output_type": "display_data",
          "data": {
            "text/plain": [
              "<Figure size 432x288 with 1 Axes>"
            ],
            "image/png": "[encoded data removed]"
          },
          "metadata": {
            "needs_background": "light"
          }
        }
      ]
    },
    {
      "cell_type": "code",
      "source": [
        "m_guess = 0 #because we don't know what the values are, we put 0\n",
        "b_guess = 0"
      ],
      "metadata": {
        "id": "7zrj6soFRk91"
      },
      "execution_count": 9,
      "outputs": []
    },
    {
      "cell_type": "markdown",
      "source": [
        "$y=mx+b$"
      ],
      "metadata": {
        "id": "cnIZGBnpS0WF"
      }
    },
    {
      "cell_type": "code",
      "source": [
        "m_guess * X + b_guess #using the same formula, but adding guess to make array"
      ],
      "metadata": {
        "colab": {
          "base_uri": "https://localhost:8080/"
        },
        "id": "m1t9AfDFSKUE",
        "outputId": "7c2cbc7a-61a6-467f-8808-35d677e28576"
      },
      "execution_count": 10,
      "outputs": [
        {
          "output_type": "execute_result",
          "data": {
            "text/plain": [
              "array([0, 0, 0, 0, 0])"
            ]
          },
          "metadata": {},
          "execution_count": 10
        }
      ]
    },
    {
      "cell_type": "code",
      "source": [
        "y_guess = m_guess + b_guess #same slope formula"
      ],
      "metadata": {
        "id": "Deif1Nx4SPq0"
      },
      "execution_count": 11,
      "outputs": []
    },
    {
      "cell_type": "code",
      "source": [
        "y_guess - Y #to find distance from point to line"
      ],
      "metadata": {
        "colab": {
          "base_uri": "https://localhost:8080/"
        },
        "id": "puA4k0sNTGpW",
        "outputId": "c025af3e-b07a-440c-8aa1-08ae957c5414"
      },
      "execution_count": null,
      "outputs": [
        {
          "output_type": "execute_result",
          "data": {
            "text/plain": [
              "array([-38, -28, -63, -22,  -6])"
            ]
          },
          "metadata": {},
          "execution_count": 8
        }
      ]
    },
    {
      "cell_type": "code",
      "source": [
        "(y_guess - Y)**2 #mathematical way to get rid of minus signss"
      ],
      "metadata": {
        "colab": {
          "base_uri": "https://localhost:8080/"
        },
        "id": "JvgZLPJ0ToTn",
        "outputId": "f84f7fbf-4102-475c-df2b-8b18c64e86fa"
      },
      "execution_count": null,
      "outputs": [
        {
          "output_type": "execute_result",
          "data": {
            "text/plain": [
              "array([1444,  784, 3969,  484,   36])"
            ]
          },
          "metadata": {},
          "execution_count": 10
        }
      ]
    },
    {
      "cell_type": "code",
      "source": [
        "np.sum((y_guess - Y)**2) #so negatives dont cancel"
      ],
      "metadata": {
        "colab": {
          "base_uri": "https://localhost:8080/"
        },
        "id": "GuqvNI0jUVX5",
        "outputId": "e5b63cd3-7b58-4902-f4b8-64f3739e4e31"
      },
      "execution_count": null,
      "outputs": [
        {
          "output_type": "execute_result",
          "data": {
            "text/plain": [
              "6717"
            ]
          },
          "metadata": {},
          "execution_count": 15
        }
      ]
    },
    {
      "cell_type": "code",
      "source": [
        "loss = np.sum((y_guess - Y)**2) #determining the potential loss"
      ],
      "metadata": {
        "id": "6yNENwQAUzm6"
      },
      "execution_count": 12,
      "outputs": []
    },
    {
      "cell_type": "code",
      "source": [
        "best_loss_so_far = 1000000000000\n",
        "m_best = 0\n",
        "b_best = 0\n",
        "\n",
        "for m_guess in np.linspace(-100,100,100): #running each possiblility of m and b to find best fit\n",
        "  for b_guess in np.linspace(-100,100,100):\n",
        "\n",
        "    y_guess = m_guess * X + b_guess #linear regression\n",
        "    \n",
        "    loss = np.sum((y_guess - Y)**2) #running all points and guesses to find the least sum of squares\n",
        "\n",
        "    if loss < best_loss_so_far:\n",
        "      m_best = m_guess #asks to display the answer and not all the possibilities\n",
        "      b_best = b_guess\n",
        "      best_loss_so_far = loss\n",
        "print (\"Found better fit:\")\n",
        "print(m_best,b_best,loss)"
      ],
      "metadata": {
        "colab": {
          "base_uri": "https://localhost:8080/"
        },
        "id": "QYwf5hIPWO23",
        "outputId": "236a60d8-0a8f-4940-dae4-d9ed3f14c0af"
      },
      "execution_count": 13,
      "outputs": [
        {
          "output_type": "stream",
          "name": "stdout",
          "text": [
            "Found better fit:\n",
            "3.030303030303031 1.0101010101010104 7378517.0\n"
          ]
        }
      ]
    },
    {
      "cell_type": "markdown",
      "source": [
        "##Questions:"
      ],
      "metadata": {
        "id": "EKngDmYSzQO5"
      }
    },
    {
      "cell_type": "markdown",
      "source": [
        "###1. What do $m$ and $b$ represent in these equations?"
      ],
      "metadata": {
        "id": "Ys7HBrKTzUQO"
      }
    },
    {
      "cell_type": "markdown",
      "source": [
        "In these equations, $m$ represents the slope of the line of best fit and $b$ represents the $y$-intercept of that line."
      ],
      "metadata": {
        "id": "j-u-lX8ezfXx"
      }
    },
    {
      "cell_type": "markdown",
      "source": [
        "###2. Guess what the correct values of $m$ and $b$ should be."
      ],
      "metadata": {
        "id": "CmC8_p7Hzflo"
      }
    },
    {
      "cell_type": "markdown",
      "source": [
        "$M$ should be close to 3.14 or $π$ which is represented in the equation for the area of a circle: $C = π D^2$"
      ],
      "metadata": {
        "id": "n0rBres6zfPt"
      }
    },
    {
      "cell_type": "markdown",
      "source": [
        "###3. Does it make sense to include $b$ in the parameters?"
      ],
      "metadata": {
        "id": "oTQOXZknzffJ"
      }
    },
    {
      "cell_type": "markdown",
      "source": [
        "Yes, because there needs to be a starting point of the line"
      ],
      "metadata": {
        "id": "tFC_US-nz2Vm"
      }
    }
  ]
}