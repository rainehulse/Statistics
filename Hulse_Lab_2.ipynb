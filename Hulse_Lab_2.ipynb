{
  "nbformat": 4,
  "nbformat_minor": 0,
  "metadata": {
    "colab": {
      "provenance": [],
      "authorship_tag": "ABX9TyN7oK0k5NO1U763icrhzH8U",
      "include_colab_link": true
    },
    "kernelspec": {
      "name": "python3",
      "display_name": "Python 3"
    },
    "language_info": {
      "name": "python"
    }
  },
  "cells": [
    {
      "cell_type": "markdown",
      "metadata": {
        "id": "view-in-github",
        "colab_type": "text"
      },
      "source": [
        "<a href=\"https://colab.research.google.com/github/rainehulse/Statistics/blob/main/Hulse_Lab_2.ipynb\" target=\"_parent\"><img src=\"https://colab.research.google.com/assets/colab-badge.svg\" alt=\"Open In Colab\"/></a>"
      ]
    },
    {
      "cell_type": "markdown",
      "source": [
        "#Stats Lab #2"
      ],
      "metadata": {
        "id": "8JRfWzU_ii1I"
      }
    },
    {
      "cell_type": "code",
      "source": [
        "import numpy as np\n",
        "import matplotlib.pyplot as plt\n",
        "import imageio\n",
        "from PIL import Image     #making images availible (jpg)"
      ],
      "metadata": {
        "id": "fl1ngPj3ioSU"
      },
      "execution_count": 22,
      "outputs": []
    },
    {
      "cell_type": "markdown",
      "source": [
        "##Style Guide for Colab Markdown\n",
        "https://colab.research.google.com/notebooks/markdown_guide.ipynb"
      ],
      "metadata": {
        "id": "d4VXJnJsi932"
      }
    },
    {
      "cell_type": "markdown",
      "source": [
        "<img src = \"https://www.applesfromny.com/wp-content/uploads/2020/06/SnapdragonNEW.png\">\n",
        "\n",
        "importing original picture"
      ],
      "metadata": {
        "id": "4IsEN20IjXym"
      }
    },
    {
      "cell_type": "markdown",
      "source": [
        "<img src = \"https://upload.wikimedia.org/wikipedia/commons/thumb/e/e3/Oranges_-_whole-halved-segment.jpg/1200px-Oranges_-_whole-halved-segment.jpg\" width = 200>\n",
        "\n",
        "importing picture and changing size"
      ],
      "metadata": {
        "id": "Ad2kgA2YjkvG"
      }
    },
    {
      "cell_type": "markdown",
      "source": [
        "##Math Typesetting\n",
        "\n",
        "[LaTeX Guide](https://github.com/williamedwardhahn/Probability_Statistics/blob/main/Math_LaTeX.pdf)"
      ],
      "metadata": {
        "id": "jQ6KHGhOjr_r"
      }
    },
    {
      "cell_type": "markdown",
      "source": [
        "Lorem ipsum dolor sit amet, consectetur adipiscing elit. Nullam convallis ut arcu sed viverra. Fusce laoreet auctor libero, a interdum tellus commodo eget. Donec enim arcu, posuere gravida tincidunt ac, convallis ut lacus. Cras et tellus mattis, rhoncus nisl in, vulputate ipsum. Nullam vulputate tellus nisl, quis egestas lacus accumsan semper. Vivamus egestas nisl porta est lacinia, ut vehicula nulla sagittis. Curabitur non augue auctor, vehicula urna ac, dapibus elit. Proin blandit hendrerit nisi. Nam non tincidunt metus, vitae cursus dui.\n",
        "\n",
        "\n",
        "TEXT BOX"
      ],
      "metadata": {
        "id": "T3pYl8Clj-BU"
      }
    },
    {
      "cell_type": "markdown",
      "source": [
        "x :normally formatted \"x\""
      ],
      "metadata": {
        "id": "D-ny4iGUkF_m"
      }
    },
    {
      "cell_type": "markdown",
      "source": [
        "$x$\n",
        "\n",
        "mathmatically formated by adding $ on eitherside"
      ],
      "metadata": {
        "id": "p7SNdWfMkLqP"
      }
    },
    {
      "cell_type": "markdown",
      "source": [
        "7"
      ],
      "metadata": {
        "id": "cq2POEtbkLk8"
      }
    },
    {
      "cell_type": "markdown",
      "source": [
        "$7$"
      ],
      "metadata": {
        "id": "A4V2yKu0kLgi"
      }
    },
    {
      "cell_type": "markdown",
      "source": [
        "$y = mx + b$"
      ],
      "metadata": {
        "id": "4WGRYgvIkLdT"
      }
    },
    {
      "cell_type": "markdown",
      "source": [
        "$\\frac{a}{b}$\n",
        "creating a fraction "
      ],
      "metadata": {
        "id": "GGzty0VqkLXI"
      }
    },
    {
      "cell_type": "markdown",
      "source": [
        "$a^b$ exponent"
      ],
      "metadata": {
        "id": "2IQgGZjMkLKn"
      }
    },
    {
      "cell_type": "markdown",
      "source": [
        "$a_b$"
      ],
      "metadata": {
        "id": "x7UL2nKUkZAB"
      }
    },
    {
      "cell_type": "markdown",
      "source": [
        "$f(x) = \\frac{1}{\\sigma\\sqrt{2\\pi}}e^{-\\frac{1}{2}(\\frac{x-\\mu}{\\sigma})^2}$"
      ],
      "metadata": {
        "id": "Xh4fW7_DkYy4"
      }
    },
    {
      "cell_type": "markdown",
      "source": [
        "#Pie Chart"
      ],
      "metadata": {
        "id": "VJGxLb9Mlwoz"
      }
    },
    {
      "cell_type": "code",
      "source": [
        "labels = 'Freshmen', 'Sophmores', 'Juniors', 'Seniors' #creating labels\n",
        "sizes = [325, 295, 345, 220] #creating values respectively\n",
        "explode = (0, 0.1, 0, 0) #only exploding one slice\n",
        "\n",
        "fig1, ax1 = plt.subplots() \n",
        "ax1.pie(sizes, explode=explode, labels=labels, autopct='%1.1f%%', shadow=True, startangle=90)\n",
        "ax1.axis('equal')  # Equal aspect ratio ensures that pie is drawn as a circle.\n",
        "plt.show()"
      ],
      "metadata": {
        "colab": {
          "base_uri": "https://localhost:8080/",
          "height": 248
        },
        "id": "lA7JZMtYl2fx",
        "outputId": "5b675a10-de7d-4c47-9a9e-986f0e68ae7d"
      },
      "execution_count": null,
      "outputs": [
        {
          "output_type": "display_data",
          "data": {
            "text/plain": [
              "<Figure size 432x288 with 1 Axes>"
            ],
            "image/png": "[encoded data removed]"
          },
          "metadata": {}
        }
      ]
    },
    {
      "cell_type": "markdown",
      "source": [
        "##Text Strings"
      ],
      "metadata": {
        "id": "ORF3h1HmoBmT"
      }
    },
    {
      "cell_type": "code",
      "source": [
        "name = 'Raine'\n",
        "output = f\"Hello, my name is {name}.\"\n",
        "print(output) #creating a texxt chain and inputing data"
      ],
      "metadata": {
        "colab": {
          "base_uri": "https://localhost:8080/"
        },
        "id": "OVTRmpKbnYwD",
        "outputId": "f647ceb0-9533-44be-c0be-fdc49dc0edb1"
      },
      "execution_count": 23,
      "outputs": [
        {
          "output_type": "stream",
          "name": "stdout",
          "text": [
            "Hello, my name is Raine.\n"
          ]
        }
      ]
    },
    {
      "cell_type": "markdown",
      "source": [
        "##Files"
      ],
      "metadata": {
        "id": "H7xxVvGloN_W"
      }
    },
    {
      "cell_type": "code",
      "source": [
        "f = open(\"hello.txt\", 'w')\n",
        "data = \"Hello World\"\n",
        "print(data, file=f)\n",
        "f.close()"
      ],
      "metadata": {
        "id": "B0oUrcAUoMiv"
      },
      "execution_count": null,
      "outputs": []
    },
    {
      "cell_type": "code",
      "source": [
        "f = open('hello.txt', 'r')\n",
        "lines = f.readlines()\n",
        "print(lines)\n",
        "f.close()"
      ],
      "metadata": {
        "colab": {
          "base_uri": "https://localhost:8080/"
        },
        "id": "VURb57SVobK-",
        "outputId": "f3a9618b-be15-43e7-9681-733fec79ca17"
      },
      "execution_count": null,
      "outputs": [
        {
          "output_type": "stream",
          "name": "stdout",
          "text": [
            "['Hello World\\n']\n"
          ]
        }
      ]
    },
    {
      "cell_type": "markdown",
      "source": [
        "##Loops"
      ],
      "metadata": {
        "id": "L7dDOZZfo4fj"
      }
    },
    {
      "cell_type": "code",
      "source": [
        "for i in range(10):\n",
        "  print(i)    #creating a range first 10 numbers"
      ],
      "metadata": {
        "colab": {
          "base_uri": "https://localhost:8080/"
        },
        "id": "2b-kfKOEo1xt",
        "outputId": "44efecf3-4c93-4827-b532-9310aa97c7e0"
      },
      "execution_count": 26,
      "outputs": [
        {
          "output_type": "stream",
          "name": "stdout",
          "text": [
            "0\n",
            "1\n",
            "2\n",
            "3\n",
            "4\n",
            "5\n",
            "6\n",
            "7\n",
            "8\n",
            "9\n"
          ]
        }
      ]
    },
    {
      "cell_type": "code",
      "source": [
        "for i in range(5,8):\n",
        "  print (i) #creating a range 5-7"
      ],
      "metadata": {
        "colab": {
          "base_uri": "https://localhost:8080/"
        },
        "id": "emxNnCGCo9YN",
        "outputId": "64b34c5e-96da-4ba6-c36f-43d626b2c160"
      },
      "execution_count": 27,
      "outputs": [
        {
          "output_type": "stream",
          "name": "stdout",
          "text": [
            "5\n",
            "6\n",
            "7\n"
          ]
        }
      ]
    },
    {
      "cell_type": "code",
      "source": [
        "for i in range (3):\n",
        "  print(\"Test Number: \",i) #print first three test numbers"
      ],
      "metadata": {
        "colab": {
          "base_uri": "https://localhost:8080/"
        },
        "id": "RGT1ijGq6p4h",
        "outputId": "127958a9-4cad-487f-f45b-691318a583ea"
      },
      "execution_count": 28,
      "outputs": [
        {
          "output_type": "stream",
          "name": "stdout",
          "text": [
            "Test Number:  0\n",
            "Test Number:  1\n",
            "Test Number:  2\n"
          ]
        }
      ]
    },
    {
      "cell_type": "markdown",
      "source": [
        "##Functions"
      ],
      "metadata": {
        "id": "KKQ2976t617d"
      }
    },
    {
      "cell_type": "code",
      "source": [
        "def square(x):\n",
        "  return x**2 #using a word to square"
      ],
      "metadata": {
        "id": "LdNvb4op6zPy"
      },
      "execution_count": 29,
      "outputs": []
    },
    {
      "cell_type": "code",
      "source": [
        "square(5) #result"
      ],
      "metadata": {
        "colab": {
          "base_uri": "https://localhost:8080/"
        },
        "id": "cfPxKLdx6967",
        "outputId": "676f49be-0637-4136-98f0-332495b51e0d"
      },
      "execution_count": 30,
      "outputs": [
        {
          "output_type": "execute_result",
          "data": {
            "text/plain": [
              "25"
            ]
          },
          "metadata": {},
          "execution_count": 30
        }
      ]
    },
    {
      "cell_type": "code",
      "source": [
        "def add_two(x): #using words to add\n",
        "  return x+2"
      ],
      "metadata": {
        "id": "9k38HsmK6_1m"
      },
      "execution_count": 31,
      "outputs": []
    },
    {
      "cell_type": "code",
      "source": [
        "add_two(5) #result"
      ],
      "metadata": {
        "colab": {
          "base_uri": "https://localhost:8080/"
        },
        "id": "SbHhmfeh7Bm6",
        "outputId": "ec60770a-0a80-40f5-82bc-2443410cea78"
      },
      "execution_count": 32,
      "outputs": [
        {
          "output_type": "execute_result",
          "data": {
            "text/plain": [
              "7"
            ]
          },
          "metadata": {},
          "execution_count": 32
        }
      ]
    },
    {
      "cell_type": "code",
      "source": [
        "square(add_two(5)) #combined word function"
      ],
      "metadata": {
        "colab": {
          "base_uri": "https://localhost:8080/"
        },
        "id": "0xzBeEgs7PfW",
        "outputId": "541e2fef-e223-4bb2-8e62-ef6abc7671f9"
      },
      "execution_count": 33,
      "outputs": [
        {
          "output_type": "execute_result",
          "data": {
            "text/plain": [
              "49"
            ]
          },
          "metadata": {},
          "execution_count": 33
        }
      ]
    },
    {
      "cell_type": "markdown",
      "source": [
        "##Coins"
      ],
      "metadata": {
        "id": "Eq3BZgmX7XjH"
      }
    },
    {
      "cell_type": "code",
      "source": [
        "import numpy as np"
      ],
      "metadata": {
        "id": "TiE_b5dw7UN6"
      },
      "execution_count": null,
      "outputs": []
    },
    {
      "cell_type": "code",
      "source": [
        "np.random.random() #random number generator"
      ],
      "metadata": {
        "colab": {
          "base_uri": "https://localhost:8080/"
        },
        "id": "feJbfsY97awW",
        "outputId": "0ddfdbc6-baec-4060-c06e-92ea64e3a315"
      },
      "execution_count": 34,
      "outputs": [
        {
          "output_type": "execute_result",
          "data": {
            "text/plain": [
              "0.9777281914357172"
            ]
          },
          "metadata": {},
          "execution_count": 34
        }
      ]
    },
    {
      "cell_type": "code",
      "source": [
        "np.random.random()>0.5 #if the random number is greateer than 0.5 = true/false"
      ],
      "metadata": {
        "colab": {
          "base_uri": "https://localhost:8080/"
        },
        "id": "bbwcTZrr7n7Q",
        "outputId": "3490f063-5cf9-46ca-93ab-11f1d741db0c"
      },
      "execution_count": 36,
      "outputs": [
        {
          "output_type": "execute_result",
          "data": {
            "text/plain": [
              "True"
            ]
          },
          "metadata": {},
          "execution_count": 36
        }
      ]
    },
    {
      "cell_type": "code",
      "source": [
        "def flip_coin():\n",
        "  if np.random.random() > 0.5:\n",
        "    print (\"Heads\")\n",
        "  else:\n",
        "    print(\"Tails\") #flipping a coin without pictures"
      ],
      "metadata": {
        "id": "fdNbFaFm7rNA"
      },
      "execution_count": 37,
      "outputs": []
    },
    {
      "cell_type": "code",
      "source": [
        "flip_coin() #results"
      ],
      "metadata": {
        "colab": {
          "base_uri": "https://localhost:8080/"
        },
        "id": "cQa2Hcur79Dg",
        "outputId": "e3c3dc00-e03d-4806-d4e3-b0ca87173a21"
      },
      "execution_count": 38,
      "outputs": [
        {
          "output_type": "stream",
          "name": "stdout",
          "text": [
            "Heads\n"
          ]
        }
      ]
    },
    {
      "cell_type": "code",
      "source": [
        "flip_coin()"
      ],
      "metadata": {
        "colab": {
          "base_uri": "https://localhost:8080/"
        },
        "id": "nGpiOaXT8E_H",
        "outputId": "ad7935d3-9a11-49a2-c2bb-b7d1b69cefdb"
      },
      "execution_count": null,
      "outputs": [
        {
          "output_type": "stream",
          "name": "stdout",
          "text": [
            "Tails\n"
          ]
        }
      ]
    },
    {
      "cell_type": "markdown",
      "source": [
        "###Graphics Output"
      ],
      "metadata": {
        "id": "5w23ix1U8NS_"
      }
    },
    {
      "cell_type": "code",
      "source": [
        "from IPython.core.display import display, HTML #able to import images"
      ],
      "metadata": {
        "id": "YOk0ncuc8LEr"
      },
      "execution_count": 39,
      "outputs": []
    },
    {
      "cell_type": "code",
      "source": [
        "import numpy as np"
      ],
      "metadata": {
        "id": "aZD2_feMDegc"
      },
      "execution_count": 10,
      "outputs": []
    },
    {
      "cell_type": "code",
      "source": [
        "display(HTML('<h1>Hello, world!</h1>')) #displaying the \"hello world\" from before"
      ],
      "metadata": {
        "colab": {
          "base_uri": "https://localhost:8080/",
          "height": 74
        },
        "id": "y0L5BbTH8V99",
        "outputId": "f3056aab-f000-43c7-da5a-ea1f1488c80e"
      },
      "execution_count": 40,
      "outputs": [
        {
          "output_type": "display_data",
          "data": {
            "text/plain": [
              "<IPython.core.display.HTML object>"
            ],
            "text/html": [
              "<h1>Hello, world!</h1>"
            ]
          },
          "metadata": {}
        }
      ]
    },
    {
      "cell_type": "code",
      "source": [
        "def coin():\n",
        "  return np.random.randint(2) #beginning code for coin flip with images"
      ],
      "metadata": {
        "id": "XDqTfhzV8fWC"
      },
      "execution_count": 42,
      "outputs": []
    },
    {
      "cell_type": "code",
      "source": [
        "coin() #test"
      ],
      "metadata": {
        "id": "iJGXTCh2FBeA",
        "colab": {
          "base_uri": "https://localhost:8080/"
        },
        "outputId": "9eb94bd8-61fc-4cb9-86a5-e6e48ef3bb3d"
      },
      "execution_count": 44,
      "outputs": [
        {
          "output_type": "execute_result",
          "data": {
            "text/plain": [
              "1"
            ]
          },
          "metadata": {},
          "execution_count": 44
        }
      ]
    },
    {
      "cell_type": "code",
      "source": [
        "display(HTML('<img src=\"https://random-ize.com/coin-flip/us-quarter/us-quarter-front.jpg\">')) #displaying an image"
      ],
      "metadata": {
        "colab": {
          "base_uri": "https://localhost:8080/",
          "height": 221
        },
        "id": "KncFKpjVCwCa",
        "outputId": "571ebd7b-91fa-4068-9db7-3a0191c635ae"
      },
      "execution_count": 45,
      "outputs": [
        {
          "output_type": "display_data",
          "data": {
            "text/plain": [
              "<IPython.core.display.HTML object>"
            ],
            "text/html": [
              "<img src=\"https://random-ize.com/coin-flip/us-quarter/us-quarter-front.jpg\">"
            ]
          },
          "metadata": {}
        }
      ]
    },
    {
      "cell_type": "code",
      "source": [
        "heads = 'https://random-ize.com/coin-flip/us-quarter/us-quarter-front.jpg'\n",
        "tails = 'https://random-ize.com/coin-flip/us-quarter/us-quarter-back.jpg' #assigning picutres to outputs"
      ],
      "metadata": {
        "id": "TXVybkA-DWmk"
      },
      "execution_count": 46,
      "outputs": []
    },
    {
      "cell_type": "code",
      "source": [
        "def show_img(img):\n",
        "  display(HTML('<img src=' + img + '>'))"
      ],
      "metadata": {
        "id": "edAKmUPCD3rl"
      },
      "execution_count": 16,
      "outputs": []
    },
    {
      "cell_type": "code",
      "source": [
        "show_img(heads) #result for heads"
      ],
      "metadata": {
        "colab": {
          "base_uri": "https://localhost:8080/",
          "height": 221
        },
        "id": "7uu7iMvVEQ-x",
        "outputId": "b325a40b-a96d-4c05-d026-3aa9b0cd0e84"
      },
      "execution_count": 48,
      "outputs": [
        {
          "output_type": "display_data",
          "data": {
            "text/plain": [
              "<IPython.core.display.HTML object>"
            ],
            "text/html": [
              "<img src=https://random-ize.com/coin-flip/us-quarter/us-quarter-front.jpg>"
            ]
          },
          "metadata": {}
        }
      ]
    },
    {
      "cell_type": "code",
      "source": [
        "show_img(tails) #result for tails"
      ],
      "metadata": {
        "colab": {
          "base_uri": "https://localhost:8080/",
          "height": 221
        },
        "id": "O0CNC4RRETRL",
        "outputId": "06f5ccb5-e9d2-4f64-dc71-600c2f49d104"
      },
      "execution_count": 49,
      "outputs": [
        {
          "output_type": "display_data",
          "data": {
            "text/plain": [
              "<IPython.core.display.HTML object>"
            ],
            "text/html": [
              "<img src=https://random-ize.com/coin-flip/us-quarter/us-quarter-back.jpg>"
            ]
          },
          "metadata": {}
        }
      ]
    },
    {
      "cell_type": "code",
      "source": [
        "def flip_coin():\n",
        "  if coin():\n",
        "    show_img(heads)\n",
        "  else:\n",
        "    show_img(tails) #creating flip coin code "
      ],
      "metadata": {
        "id": "X1Ql1lXVEWlZ"
      },
      "execution_count": 50,
      "outputs": []
    },
    {
      "cell_type": "code",
      "source": [
        "flip_coin()"
      ],
      "metadata": {
        "colab": {
          "base_uri": "https://localhost:8080/",
          "height": 221
        },
        "id": "5i4jr-1lEjG4",
        "outputId": "9b932e46-88dc-444a-d14e-32b230da95b2"
      },
      "execution_count": 20,
      "outputs": [
        {
          "output_type": "display_data",
          "data": {
            "text/plain": [
              "<IPython.core.display.HTML object>"
            ],
            "text/html": [
              "<img src=https://random-ize.com/coin-flip/us-quarter/us-quarter-back.jpg>"
            ]
          },
          "metadata": {}
        }
      ]
    },
    {
      "cell_type": "code",
      "source": [
        "for i in range(5):\n",
        "  flip_coin() #producing 5 random flip coins"
      ],
      "metadata": {
        "colab": {
          "base_uri": "https://localhost:8080/",
          "height": 1000
        },
        "id": "VYqHrN_JEliO",
        "outputId": "5158a50f-86e7-44d3-ba97-f3db052b1e72"
      },
      "execution_count": 51,
      "outputs": [
        {
          "output_type": "display_data",
          "data": {
            "text/plain": [
              "<IPython.core.display.HTML object>"
            ],
            "text/html": [
              "<img src=https://random-ize.com/coin-flip/us-quarter/us-quarter-back.jpg>"
            ]
          },
          "metadata": {}
        },
        {
          "output_type": "display_data",
          "data": {
            "text/plain": [
              "<IPython.core.display.HTML object>"
            ],
            "text/html": [
              "<img src=https://random-ize.com/coin-flip/us-quarter/us-quarter-back.jpg>"
            ]
          },
          "metadata": {}
        },
        {
          "output_type": "display_data",
          "data": {
            "text/plain": [
              "<IPython.core.display.HTML object>"
            ],
            "text/html": [
              "<img src=https://random-ize.com/coin-flip/us-quarter/us-quarter-front.jpg>"
            ]
          },
          "metadata": {}
        },
        {
          "output_type": "display_data",
          "data": {
            "text/plain": [
              "<IPython.core.display.HTML object>"
            ],
            "text/html": [
              "<img src=https://random-ize.com/coin-flip/us-quarter/us-quarter-front.jpg>"
            ]
          },
          "metadata": {}
        },
        {
          "output_type": "display_data",
          "data": {
            "text/plain": [
              "<IPython.core.display.HTML object>"
            ],
            "text/html": [
              "<img src=https://random-ize.com/coin-flip/us-quarter/us-quarter-front.jpg>"
            ]
          },
          "metadata": {}
        }
      ]
    },
    {
      "cell_type": "code",
      "source": [],
      "metadata": {
        "id": "9qY82Ow4Es3T"
      },
      "execution_count": null,
      "outputs": []
    }
  ]
}